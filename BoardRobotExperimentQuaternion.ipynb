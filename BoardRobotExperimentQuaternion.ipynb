{
 "cells": [
  {
   "cell_type": "code",
   "execution_count": 1,
   "id": "100528d2",
   "metadata": {},
   "outputs": [
    {
     "name": "stdout",
     "output_type": "stream",
     "text": [
      "Interface Running...\n"
     ]
    }
   ],
   "source": [
    "import sys\n",
    "sys.path.append(\"/usr/local/lib/python3.8/site-packages\")\n",
    "from FR3Py.interfaces import FR3Real\n",
    "\n",
    "robot = FR3Real()"
   ]
  },
  {
   "cell_type": "code",
   "execution_count": 3,
   "id": "15bb5277",
   "metadata": {},
   "outputs": [],
   "source": [
    "import numpy as np\n",
    "\n",
    "from tvcbf_control.board_fr3_controller import BoardCBFQPController\n",
    "from tvcbf_control.board_evasive_controller import BoardEvasiveController\n",
    "from tvcbf_control.board_expand_controller import BoardExpandController\n",
    "from tvcbf_control.state_estimation_quat import StateEstimatorQuaternion"
   ]
  },
  {
   "cell_type": "code",
   "execution_count": 4,
   "id": "062ca485",
   "metadata": {},
   "outputs": [],
   "source": [
    "control_interval = 10\n",
    "controller = BoardExpandController()\n",
    "time_interval = control_interval * 1e-3\n",
    "observer = StateEstimatorQuaternion(dt=time_interval)"
   ]
  },
  {
   "cell_type": "code",
   "execution_count": 5,
   "id": "70db6714",
   "metadata": {},
   "outputs": [],
   "source": [
    "# initial guess for observers\n",
    "pos_mean_tm1 = np.array([[1.0], [0.0], [1.0], [0.8], [0.0], [0.0]])\n",
    "pos_covariance_tm1 = np.diag([1e-6, 1e-6, 1e-6, 2e-5, 2e-5, 2e-5])\n",
    "ori_mean_tm1 = np.array([0.0, 0.0, 0.0, 1.0, 0.0, 0.0, 0.0])[:, np.newaxis]\n",
    "ori_covariance_tm1 = np.diag([1e-6, 1e-6, 1e-6, 1e-6, 5e-5, 5e-5, 5e-5])"
   ]
  },
  {
   "cell_type": "code",
   "execution_count": 6,
   "id": "ff7473d8",
   "metadata": {},
   "outputs": [],
   "source": [
    "state = robot.get_state()\n",
    "q, dq = state['q'], state['dq']\n",
    "\n",
    "fake_pos = np.ones(3)\n",
    "fake_vel = np.zeros(3)\n",
    "fake_quat = np.array([0, 0, 0, 1])\n",
    "\n",
    "dq_target, _info = controller.controller(\n",
    "    q,\n",
    "    dq,\n",
    "    fake_pos,\n",
    "    fake_quat,\n",
    "    fake_vel,\n",
    "    fake_pos,\n",
    "    fake_quat,\n",
    "    fake_vel,\n",
    "    time_interval,\n",
    ")"
   ]
  },
  {
   "cell_type": "code",
   "execution_count": 7,
   "id": "12a92869",
   "metadata": {},
   "outputs": [],
   "source": [
    "import rospy\n",
    "import tf\n",
    "import time\n",
    "import threading\n",
    "from scipy.spatial.transform import Rotation\n",
    "import pickle\n",
    "from copy import deepcopy\n",
    "\n",
    "rospy.init_node(\"tf_listener_node\")"
   ]
  },
  {
   "cell_type": "code",
   "execution_count": 8,
   "id": "6813df50",
   "metadata": {},
   "outputs": [],
   "source": [
    "def tf_listener_thread():\n",
    "\n",
    "    def get_T(p, R):\n",
    "        T = np.eye(4)\n",
    "        T[:3, :3] = R\n",
    "        T[:3, 3] = p\n",
    "\n",
    "        return T\n",
    "\n",
    "    global board_pos\n",
    "    global board_ori\n",
    "\n",
    "    camera_to_base_transform = np.load(\"/home/bolun/camera_to_grey_base_transform.npy\")\n",
    "\n",
    "    listener = tf.TransformListener()\n",
    "\n",
    "    # the frame where the data originated\n",
    "    target_frame = \"/camera_color_optical_frame\"\n",
    "\n",
    "    # the frame where the data should be transformed\n",
    "    source_frame = \"/wall\"\n",
    "\n",
    "    listener.waitForTransform(target_frame, source_frame, rospy.Time(), rospy.Duration(4.0))\n",
    "\n",
    "    # Main loop to continuously update the pose\n",
    "    while not rospy.is_shutdown():\n",
    "        try:\n",
    "            (trans, quat) = listener.lookupTransform(target_frame, source_frame, rospy.Time(0))\n",
    "            # print(trans, quat)\n",
    "            \n",
    "            pos = np.array(trans)\n",
    "            Rot = Rotation.from_quat(quat).as_matrix()\n",
    "\n",
    "            T = camera_to_base_transform @ get_T(pos, Rot)\n",
    "            board_pos = T[:3, 3]\n",
    "            board_rot = T[:3, :3]\n",
    "            board_ori = Rotation.from_matrix(board_rot).as_quat()\n",
    "\n",
    "            rospy.sleep(0.001)  # Adjust the sleep duration as needed\n",
    "        except (tf.LookupException, tf.ConnectivityException, tf.ExtrapolationException):\n",
    "            rospy.logwarn(\"Error occurred while retrieving TF transform.\") \n",
    "\n",
    "# Initialize the global pose variable\n",
    "board_pos = None\n",
    "board_ori = None\n",
    "\n",
    "# Create and start the thread\n",
    "tf_thread = threading.Thread(target=tf_listener_thread)\n",
    "tf_thread.start()"
   ]
  },
  {
   "cell_type": "code",
   "execution_count": 9,
   "id": "78a7b2b8",
   "metadata": {},
   "outputs": [
    {
     "data": {
      "text/plain": [
       "(array([ 0.62212911, -0.13069444, -0.16045386,  0.7550688 ]),\n",
       " array([ 1.04914565,  1.50178269, -0.13161204]))"
      ]
     },
     "execution_count": 9,
     "metadata": {},
     "output_type": "execute_result"
    }
   ],
   "source": [
    "board_ori, board_pos"
   ]
  },
  {
   "cell_type": "code",
   "execution_count": 10,
   "id": "4a5dfd9e",
   "metadata": {},
   "outputs": [
    {
     "ename": "KeyboardInterrupt",
     "evalue": "",
     "output_type": "error",
     "traceback": [
      "\u001b[0;31m---------------------------------------------------------------------------\u001b[0m",
      "\u001b[0;31mKeyboardInterrupt\u001b[0m                         Traceback (most recent call last)",
      "Cell \u001b[0;32mIn[10], line 68\u001b[0m\n\u001b[1;32m     65\u001b[0m     history\u001b[39m.\u001b[39mappend({\u001b[39m*\u001b[39m\u001b[39m*\u001b[39mdata, \u001b[39m*\u001b[39m\u001b[39m*\u001b[39mdeepcopy(_info)})\n\u001b[1;32m     67\u001b[0m robot\u001b[39m.\u001b[39msend_joint_command(dq_target[:\u001b[39m7\u001b[39m])\n\u001b[0;32m---> 68\u001b[0m time\u001b[39m.\u001b[39;49msleep(\u001b[39m1\u001b[39;49m\u001b[39m/\u001b[39;49m\u001b[39m1000\u001b[39;49m)\n",
      "\u001b[0;31mKeyboardInterrupt\u001b[0m: "
     ]
    }
   ],
   "source": [
    "start_time = time.time()\n",
    "history = []\n",
    "\n",
    "for i in range(1000000):\n",
    "    current_time = time.time() - start_time\n",
    "    state = robot.get_state()\n",
    "    q, dq = state['q'], state['dq']\n",
    "    \n",
    "    if i % control_interval == 0:\n",
    "        if board_ori[3] < 0:\n",
    "            _board_ori = -board_ori\n",
    "        else:\n",
    "            _board_ori = board_ori\n",
    "\n",
    "        pos_mean_t, pos_covariance_t = observer.position_estimation(\n",
    "                pos_mean_tm1, pos_covariance_tm1, board_pos[:, np.newaxis]\n",
    "        )\n",
    "        # ori_mean_t is in [qx, qy, qz, qw, ωx, ωy, ωz]\n",
    "        ori_mean_t, ori_covariance_t = observer.orientation_estimation(\n",
    "            ori_mean_tm1, ori_covariance_tm1, _board_ori[:, np.newaxis]\n",
    "        )\n",
    "\n",
    "        # updated estimation\n",
    "        pos_mean_tm1 = deepcopy(pos_mean_t)\n",
    "        pos_covariance_tm1 = deepcopy(pos_covariance_t)\n",
    "        ori_mean_tm1 = deepcopy(ori_mean_t)\n",
    "        ori_covariance_tm1 = deepcopy(ori_covariance_t)\n",
    "        \n",
    "        # get estimated configuration of the board\n",
    "        est_board_pos = pos_mean_t[:3, 0]\n",
    "        est_board_vel = pos_mean_t[3:, 0]\n",
    "        est_board_ori = ori_mean_t[:4, 0]\n",
    "\n",
    "        # get the estimated next configuration of the board\n",
    "        next_board_pos = observer.get_next_position(pos_mean_t)[:, 0]\n",
    "        next_board_vel = pos_mean_t[3:, 0]\n",
    "        next_board_ori = observer.get_next_orientation(ori_mean_t)[:4, 0]\n",
    "        \n",
    "        dq_target, _info = controller.controller(\n",
    "            q,\n",
    "            dq,\n",
    "            est_board_pos,\n",
    "            est_board_ori,\n",
    "            est_board_vel,\n",
    "            next_board_pos,\n",
    "            next_board_ori,\n",
    "            next_board_vel,\n",
    "            time_interval,\n",
    "        )\n",
    "\n",
    "        data = {\n",
    "            'time': deepcopy(current_time),\n",
    "            'board_pos': deepcopy(board_pos),\n",
    "            'board_ori': deepcopy(_board_ori),\n",
    "            'est_board_pos': deepcopy(est_board_pos),\n",
    "            'est_board_ori': deepcopy(est_board_ori),\n",
    "            'next_board_pos': deepcopy(next_board_pos),\n",
    "            'next_board_ori': deepcopy(next_board_ori),\n",
    "            'dq_target': deepcopy(dq_target),\n",
    "            \"pos_mean_tm1\": deepcopy(pos_mean_tm1),\n",
    "            \"pos_covariance_tm1\": deepcopy(pos_covariance_tm1),\n",
    "            \"ori_mean_tm1\": deepcopy(ori_mean_tm1),\n",
    "            \"ori_covariance_tm1\": deepcopy(ori_covariance_tm1),\n",
    "        }\n",
    "        history.append({**data, **deepcopy(_info)})\n",
    "        \n",
    "    robot.send_joint_command(dq_target[:7])\n",
    "    time.sleep(1/1000)"
   ]
  },
  {
   "cell_type": "code",
   "execution_count": 11,
   "id": "79379b86",
   "metadata": {},
   "outputs": [],
   "source": [
    "# save data to pickle file\n",
    "with open(\"../data/data_board_0615_11_wb.pkl\", \"wb\") as f:\n",
    "    pickle.dump(history, f)"
   ]
  }
 ],
 "metadata": {
  "kernelspec": {
   "display_name": "Python 3 (ipykernel)",
   "language": "python",
   "name": "python3"
  },
  "language_info": {
   "codemirror_mode": {
    "name": "ipython",
    "version": 3
   },
   "file_extension": ".py",
   "mimetype": "text/x-python",
   "name": "python",
   "nbconvert_exporter": "python",
   "pygments_lexer": "ipython3",
   "version": "3.8.16"
  }
 },
 "nbformat": 4,
 "nbformat_minor": 5
}
